{
 "cells": [
  {
   "cell_type": "markdown",
   "metadata": {},
   "source": [
    "Meeting: 1/6/2021"
   ]
  },
  {
   "cell_type": "markdown",
   "metadata": {},
   "source": [
    "Watching:\n",
    "predictin and playing:\n",
    "social interaction: \n",
    "sports retail: \n",
    "contents creators: be a platform for them\n",
    "\n",
    "Marlena, Saeid, Naqi: the CEO\n",
    "\n",
    "Calen\n",
    "Radical truth, transparent, openness, respect"
   ]
  },
  {
   "cell_type": "markdown",
   "metadata": {},
   "source": [
    "Engineering\n",
    "\n",
    "Frontend: React\n",
    "\n",
    "elastic, redis, \n",
    "cache and searching\n",
    "\n",
    "single sign-on: google, facebook, apple\n",
    "\n",
    "Github: source control\n",
    "\n",
    "local, staging, production\n",
    "\n",
    "linear.app\n",
    "\n",
    "message: socket.io, like group.me\n",
    "direct message, reply to message\n",
    "or like slack: thread\n",
    "group message: post, like\n",
    "\n",
    "micro service: dockers, kubernetes\n",
    "\n",
    "api\n",
    "\n",
    "open api spec\n",
    "\n",
    "heroku: cloud service provider, managed instances\n",
    "\n",
    "\n",
    "instrumental and monitoring: airbrick\n",
    "\n",
    "\n",
    "\n"
   ]
  },
  {
   "cell_type": "markdown",
   "metadata": {},
   "source": [
    "Software cycle:\n",
    "\n",
    "feature github \n",
    "\n",
    "push will be automated to staging\n",
    "\n",
    "staging branch\n",
    "\n",
    "main branch\n",
    "\n",
    "work in your own feature branches\n",
    "\n",
    "when it's done, pull, review on the modification\n",
    "\n",
    "review branch\n",
    "\n",
    "it's good to review other people's work\n",
    "\n",
    "two-week sprint\n",
    "\n"
   ]
  },
  {
   "cell_type": "code",
   "execution_count": null,
   "metadata": {},
   "outputs": [],
   "source": []
  }
 ],
 "metadata": {
  "kernelspec": {
   "display_name": "Python 3",
   "language": "python",
   "name": "python3"
  },
  "language_info": {
   "codemirror_mode": {
    "name": "ipython",
    "version": 3
   },
   "file_extension": ".py",
   "mimetype": "text/x-python",
   "name": "python",
   "nbconvert_exporter": "python",
   "pygments_lexer": "ipython3",
   "version": "3.7.6"
  }
 },
 "nbformat": 4,
 "nbformat_minor": 4
}
