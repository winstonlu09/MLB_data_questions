{
 "cells": [
  {
   "cell_type": "code",
   "execution_count": 166,
   "metadata": {},
   "outputs": [],
   "source": [
    "from bs4 import BeautifulSoup\n",
    "import requests\n",
    "\n",
    "import numpy as np\n",
    "import pandas as pd\n",
    "import re\n",
    "\n",
    "import importlib\n",
    "import utils\n",
    "importlib.reload(utils)\n",
    "\n",
    "from utils import get_parsed, wiki_pedia_base_url"
   ]
  },
  {
   "cell_type": "code",
   "execution_count": 2,
   "metadata": {},
   "outputs": [],
   "source": [
    "url = 'https://en.wikipedia.org/wiki/2002_Miami_Dolphins_season'\n",
    "response = requests.get(url)\n",
    "text = response.text"
   ]
  },
  {
   "cell_type": "code",
   "execution_count": 3,
   "metadata": {},
   "outputs": [],
   "source": [
    "soup = BeautifulSoup(text, 'html.parser')"
   ]
  },
  {
   "cell_type": "markdown",
   "metadata": {},
   "source": [
    "The main page for NFL"
   ]
  },
  {
   "cell_type": "code",
   "execution_count": 170,
   "metadata": {},
   "outputs": [],
   "source": [
    "NFL_MainPage_url = 'https://en.wikipedia.org/wiki/National_Football_League'"
   ]
  },
  {
   "cell_type": "code",
   "execution_count": 171,
   "metadata": {},
   "outputs": [],
   "source": [
    "NFL_MainPage_url_parsed = get_parsed(NFL_MainPage_url)"
   ]
  },
  {
   "cell_type": "code",
   "execution_count": 172,
   "metadata": {},
   "outputs": [],
   "source": [
    "NFL_teams_table = NFL_MainPage_url_parsed.body.findAll(id='Teams')[0].parent.findNext('table', 'wikitable')"
   ]
  },
  {
   "cell_type": "markdown",
   "metadata": {},
   "source": [
    "Using find_all('tr') instead of children can remove the '\\n' elements"
   ]
  },
  {
   "cell_type": "code",
   "execution_count": 173,
   "metadata": {},
   "outputs": [
    {
     "data": {
      "text/plain": [
       "36"
      ]
     },
     "execution_count": 173,
     "metadata": {},
     "output_type": "execute_result"
    }
   ],
   "source": [
    "NFL_teams_table_list = NFL_teams_table.tbody.find_all('tr')\n",
    "len(NFL_teams_table_list)"
   ]
  },
  {
   "cell_type": "code",
   "execution_count": 174,
   "metadata": {
    "scrolled": true
   },
   "outputs": [
    {
     "data": {
      "text/plain": [
       "['Conference',\n",
       " 'Division',\n",
       " 'Club',\n",
       " 'City',\n",
       " 'Stadium',\n",
       " 'Capacity',\n",
       " 'Coordinates',\n",
       " 'First season',\n",
       " 'Head coach',\n",
       " 'Conference_url',\n",
       " 'Division_url',\n",
       " 'Club_url',\n",
       " 'City_url',\n",
       " 'Stadium_url']"
      ]
     },
     "execution_count": 174,
     "metadata": {},
     "output_type": "execute_result"
    }
   ],
   "source": [
    "columns_name_no = NFL_teams_table_list[0]\n",
    "columns_name = []\n",
    "for th in columns_name_no.children:\n",
    "    if th != '\\n':\n",
    "        column_text = th.text\n",
    "        loc = column_text.find('[')\n",
    "        columns_name.append(column_text[:loc])\n",
    "columns_name = ['Conference'] + columns_name\n",
    "columns_name = columns_name + [col + '_url' for col in columns_name[:5]]\n",
    "columns_name"
   ]
  },
  {
   "cell_type": "code",
   "execution_count": 175,
   "metadata": {},
   "outputs": [],
   "source": [
    "def process_one_row(tr_content):\n",
    "    main_cols = []\n",
    "    url_cols = []\n",
    "    for idd, th in enumerate(tr_content.find_all('td')):\n",
    "        if idd < 3:\n",
    "            url_cols.append(th.a['href'])\n",
    "        main_cols.append(th.text.strip())\n",
    "    return (main_cols, url_cols)"
   ]
  },
  {
   "cell_type": "markdown",
   "metadata": {},
   "source": [
    "Conference One and Two"
   ]
  },
  {
   "cell_type": "code",
   "execution_count": 176,
   "metadata": {},
   "outputs": [],
   "source": [
    "data = []\n",
    "\n",
    "# conference_one\n",
    "conference_one = NFL_teams_table_list[1].text.strip()\n",
    "conference_one_url = NFL_teams_table_list[1].a['href']\n",
    "loc_start = 2\n",
    "for i in range(4):\n",
    "    # deal with first club in this division\n",
    "    loc_first_club_this_division = loc_start + i * 4\n",
    "    tr_content = NFL_teams_table_list[loc_first_club_this_division]\n",
    "    \n",
    "    th = tr_content.find('th')\n",
    "    division = th.text\n",
    "    division_url = th.a['href']\n",
    "    \n",
    "    main_cols, url_cols = process_one_row(tr_content)\n",
    "    \n",
    "    data.append([conference_one, division] + main_cols + [conference_one_url, division_url] + url_cols)\n",
    "    \n",
    "    # the rest three clubs\n",
    "    for j in range(1, 4):\n",
    "        loc_j_club_this_division = loc_start + i * 4 + j\n",
    "        tr_content = NFL_teams_table_list[loc_j_club_this_division]\n",
    "        main_cols, url_cols = process_one_row(tr_content)\n",
    "        data.append([conference_one, division] + main_cols + [conference_one_url, division_url] + url_cols)\n",
    "\n",
    "# conference_one\n",
    "conference_two = NFL_teams_table_list[18].text.strip()\n",
    "conference_two_url = NFL_teams_table_list[18].a['href']\n",
    "loc_start = 19\n",
    "for i in range(4):\n",
    "    # deal with first club in this division\n",
    "    loc_first_club_this_division = loc_start + i * 4\n",
    "    tr_content = NFL_teams_table_list[loc_first_club_this_division]\n",
    "    \n",
    "    th = tr_content.find('th')\n",
    "    division = th.text\n",
    "    division_url = th.a['href']\n",
    "    \n",
    "    main_cols, url_cols = process_one_row(tr_content)\n",
    "    data.append([conference_two, division] + main_cols + [conference_two_url, division_url] + url_cols)\n",
    "    \n",
    "    # the rest three clubs\n",
    "    for j in range(1, 4):\n",
    "        loc_j_club_this_division = loc_start + i * 4 + j\n",
    "        tr_content = NFL_teams_table_list[loc_j_club_this_division]\n",
    "        main_cols, url_cols = process_one_row(tr_content)\n",
    "        data.append([conference_two, division] + main_cols + [conference_two_url, division_url] + url_cols)\n",
    "\n"
   ]
  },
  {
   "cell_type": "code",
   "execution_count": 177,
   "metadata": {},
   "outputs": [
    {
     "data": {
      "text/plain": [
       "['American Football Conference',\n",
       " 'East\\n',\n",
       " 'Buffalo Bills',\n",
       " 'Orchard Park, New York',\n",
       " 'Bills Stadium',\n",
       " '71,608',\n",
       " '.mw-parser-output .geo-default,.mw-parser-output .geo-dms,.mw-parser-output .geo-dec{display:inline}.mw-parser-output .geo-nondefault,.mw-parser-output .geo-multi-punct{display:none}.mw-parser-output .longitude,.mw-parser-output .latitude{white-space:nowrap}42°46′26″N 78°47′13″W\\ufeff / \\ufeff42.774°N 78.787°W\\ufeff / 42.774; -78.787\\ufeff (Buffalo Bills)',\n",
       " '1960 (AFL), 1970 (NFL)',\n",
       " 'Sean McDermott',\n",
       " '/wiki/American_Football_Conference',\n",
       " '/wiki/AFC_East',\n",
       " '/wiki/Buffalo_Bills',\n",
       " '/wiki/Orchard_Park_(town),_New_York',\n",
       " '/wiki/Bills_Stadium']"
      ]
     },
     "execution_count": 177,
     "metadata": {},
     "output_type": "execute_result"
    }
   ],
   "source": [
    "data[0]"
   ]
  },
  {
   "cell_type": "code",
   "execution_count": 178,
   "metadata": {},
   "outputs": [],
   "source": [
    "data_df = pd.DataFrame(data, columns=columns_name)"
   ]
  },
  {
   "cell_type": "code",
   "execution_count": 179,
   "metadata": {},
   "outputs": [
    {
     "data": {
      "text/plain": [
       "(32, 14)"
      ]
     },
     "execution_count": 179,
     "metadata": {},
     "output_type": "execute_result"
    }
   ],
   "source": [
    "data_df.shape"
   ]
  },
  {
   "cell_type": "code",
   "execution_count": 180,
   "metadata": {},
   "outputs": [
    {
     "data": {
      "text/plain": [
       "'.mw-parser-output .geo-default,.mw-parser-output .geo-dms,.mw-parser-output .geo-dec{display:inline}.mw-parser-output .geo-nondefault,.mw-parser-output .geo-multi-punct{display:none}.mw-parser-output .longitude,.mw-parser-output .latitude{white-space:nowrap}42°46′26″N 78°47′13″W\\ufeff / \\ufeff42.774°N 78.787°W\\ufeff / 42.774; -78.787\\ufeff (Buffalo Bills)'"
      ]
     },
     "execution_count": 180,
     "metadata": {},
     "output_type": "execute_result"
    }
   ],
   "source": [
    "test_string = data_df.loc[0, 'Coordinates']\n",
    "test_string"
   ]
  },
  {
   "cell_type": "code",
   "execution_count": 181,
   "metadata": {},
   "outputs": [
    {
     "data": {
      "text/plain": [
       "['42.774°N']"
      ]
     },
     "execution_count": 181,
     "metadata": {},
     "output_type": "execute_result"
    }
   ],
   "source": [
    "re.findall('[0-9]+\\.[0-9]+°[NS]', test_string)"
   ]
  },
  {
   "cell_type": "code",
   "execution_count": 182,
   "metadata": {},
   "outputs": [],
   "source": [
    "def get_lat(x):\n",
    "    lat = re.findall('[0-9]+\\.[0-9]+°[NS]', x)\n",
    "    return lat[0]\n",
    "def get_long(x):\n",
    "    lat = re.findall('[0-9]+\\.[0-9]+°[WE]', x)\n",
    "    return lat[0]\n",
    "data_df['Lat'] = data_df['Coordinates'].apply(get_lat)\n",
    "data_df['Long'] = data_df['Coordinates'].apply(get_long)"
   ]
  },
  {
   "cell_type": "code",
   "execution_count": 183,
   "metadata": {},
   "outputs": [
    {
     "data": {
      "text/html": [
       "<div>\n",
       "<style scoped>\n",
       "    .dataframe tbody tr th:only-of-type {\n",
       "        vertical-align: middle;\n",
       "    }\n",
       "\n",
       "    .dataframe tbody tr th {\n",
       "        vertical-align: top;\n",
       "    }\n",
       "\n",
       "    .dataframe thead th {\n",
       "        text-align: right;\n",
       "    }\n",
       "</style>\n",
       "<table border=\"1\" class=\"dataframe\">\n",
       "  <thead>\n",
       "    <tr style=\"text-align: right;\">\n",
       "      <th></th>\n",
       "      <th>Conference</th>\n",
       "      <th>Division</th>\n",
       "      <th>Club</th>\n",
       "      <th>City</th>\n",
       "      <th>Stadium</th>\n",
       "      <th>Capacity</th>\n",
       "      <th>Coordinates</th>\n",
       "      <th>First season</th>\n",
       "      <th>Head coach</th>\n",
       "      <th>Conference_url</th>\n",
       "      <th>Division_url</th>\n",
       "      <th>Club_url</th>\n",
       "      <th>City_url</th>\n",
       "      <th>Stadium_url</th>\n",
       "      <th>Lat</th>\n",
       "      <th>Long</th>\n",
       "    </tr>\n",
       "  </thead>\n",
       "  <tbody>\n",
       "    <tr>\n",
       "      <th>0</th>\n",
       "      <td>American Football Conference</td>\n",
       "      <td>East\\n</td>\n",
       "      <td>Buffalo Bills</td>\n",
       "      <td>Orchard Park, New York</td>\n",
       "      <td>Bills Stadium</td>\n",
       "      <td>71,608</td>\n",
       "      <td>.mw-parser-output .geo-default,.mw-parser-outp...</td>\n",
       "      <td>1960 (AFL), 1970 (NFL)</td>\n",
       "      <td>Sean McDermott</td>\n",
       "      <td>/wiki/American_Football_Conference</td>\n",
       "      <td>/wiki/AFC_East</td>\n",
       "      <td>/wiki/Buffalo_Bills</td>\n",
       "      <td>/wiki/Orchard_Park_(town),_New_York</td>\n",
       "      <td>/wiki/Bills_Stadium</td>\n",
       "      <td>42.774°N</td>\n",
       "      <td>78.787°W</td>\n",
       "    </tr>\n",
       "    <tr>\n",
       "      <th>1</th>\n",
       "      <td>American Football Conference</td>\n",
       "      <td>East\\n</td>\n",
       "      <td>Miami Dolphins</td>\n",
       "      <td>Miami Gardens, Florida</td>\n",
       "      <td>Hard Rock Stadium</td>\n",
       "      <td>64,767</td>\n",
       "      <td>25°57′29″N 80°14′20″W﻿ / ﻿25.958°N 80.239°W﻿ /...</td>\n",
       "      <td>1966 (AFL), 1970 (NFL)</td>\n",
       "      <td>Brian Flores</td>\n",
       "      <td>/wiki/American_Football_Conference</td>\n",
       "      <td>/wiki/AFC_East</td>\n",
       "      <td>/wiki/Miami_Dolphins</td>\n",
       "      <td>/wiki/Miami_Gardens,_Florida</td>\n",
       "      <td>/wiki/Hard_Rock_Stadium</td>\n",
       "      <td>25.958°N</td>\n",
       "      <td>80.239°W</td>\n",
       "    </tr>\n",
       "    <tr>\n",
       "      <th>2</th>\n",
       "      <td>American Football Conference</td>\n",
       "      <td>East\\n</td>\n",
       "      <td>New England Patriots</td>\n",
       "      <td>Foxborough, Massachusetts</td>\n",
       "      <td>Gillette Stadium</td>\n",
       "      <td>65,878</td>\n",
       "      <td>42°05′28″N 71°15′50″W﻿ / ﻿42.091°N 71.264°W﻿ /...</td>\n",
       "      <td>1960 (AFL), 1970 (NFL)</td>\n",
       "      <td>Bill Belichick</td>\n",
       "      <td>/wiki/American_Football_Conference</td>\n",
       "      <td>/wiki/AFC_East</td>\n",
       "      <td>/wiki/New_England_Patriots</td>\n",
       "      <td>/wiki/Foxborough,_Massachusetts</td>\n",
       "      <td>/wiki/Gillette_Stadium</td>\n",
       "      <td>42.091°N</td>\n",
       "      <td>71.264°W</td>\n",
       "    </tr>\n",
       "    <tr>\n",
       "      <th>3</th>\n",
       "      <td>American Football Conference</td>\n",
       "      <td>East\\n</td>\n",
       "      <td>New York Jets</td>\n",
       "      <td>East Rutherford, New Jersey</td>\n",
       "      <td>MetLife Stadium[C]</td>\n",
       "      <td>82,500</td>\n",
       "      <td>40°48′50″N 74°04′26″W﻿ / ﻿40.814°N 74.074°W﻿ /...</td>\n",
       "      <td>1960 (AFL), 1970 (NFL)</td>\n",
       "      <td>Vacant</td>\n",
       "      <td>/wiki/American_Football_Conference</td>\n",
       "      <td>/wiki/AFC_East</td>\n",
       "      <td>/wiki/New_York_Jets</td>\n",
       "      <td>/wiki/East_Rutherford,_New_Jersey</td>\n",
       "      <td>/wiki/MetLife_Stadium</td>\n",
       "      <td>40.814°N</td>\n",
       "      <td>74.074°W</td>\n",
       "    </tr>\n",
       "    <tr>\n",
       "      <th>4</th>\n",
       "      <td>American Football Conference</td>\n",
       "      <td>North\\n</td>\n",
       "      <td>Baltimore Ravens</td>\n",
       "      <td>Baltimore, Maryland</td>\n",
       "      <td>M&amp;T Bank Stadium</td>\n",
       "      <td>71,008</td>\n",
       "      <td>39°16′41″N 76°37′23″W﻿ / ﻿39.278°N 76.623°W﻿ /...</td>\n",
       "      <td>1996[D]</td>\n",
       "      <td>John Harbaugh</td>\n",
       "      <td>/wiki/American_Football_Conference</td>\n",
       "      <td>/wiki/AFC_North</td>\n",
       "      <td>/wiki/Baltimore_Ravens</td>\n",
       "      <td>/wiki/Baltimore</td>\n",
       "      <td>/wiki/M%26T_Bank_Stadium</td>\n",
       "      <td>39.278°N</td>\n",
       "      <td>76.623°W</td>\n",
       "    </tr>\n",
       "    <tr>\n",
       "      <th>5</th>\n",
       "      <td>American Football Conference</td>\n",
       "      <td>North\\n</td>\n",
       "      <td>Cincinnati Bengals</td>\n",
       "      <td>Cincinnati, Ohio</td>\n",
       "      <td>Paul Brown Stadium</td>\n",
       "      <td>65,515</td>\n",
       "      <td>39°05′42″N 84°30′58″W﻿ / ﻿39.095°N 84.516°W﻿ /...</td>\n",
       "      <td>1968 (AFL), 1970 (NFL)</td>\n",
       "      <td>Zac Taylor</td>\n",
       "      <td>/wiki/American_Football_Conference</td>\n",
       "      <td>/wiki/AFC_North</td>\n",
       "      <td>/wiki/Cincinnati_Bengals</td>\n",
       "      <td>/wiki/Cincinnati</td>\n",
       "      <td>/wiki/Paul_Brown_Stadium</td>\n",
       "      <td>39.095°N</td>\n",
       "      <td>84.516°W</td>\n",
       "    </tr>\n",
       "  </tbody>\n",
       "</table>\n",
       "</div>"
      ],
      "text/plain": [
       "                     Conference Division                  Club  \\\n",
       "0  American Football Conference   East\\n         Buffalo Bills   \n",
       "1  American Football Conference   East\\n        Miami Dolphins   \n",
       "2  American Football Conference   East\\n  New England Patriots   \n",
       "3  American Football Conference   East\\n         New York Jets   \n",
       "4  American Football Conference  North\\n      Baltimore Ravens   \n",
       "5  American Football Conference  North\\n    Cincinnati Bengals   \n",
       "\n",
       "                          City             Stadium Capacity  \\\n",
       "0       Orchard Park, New York       Bills Stadium   71,608   \n",
       "1       Miami Gardens, Florida   Hard Rock Stadium   64,767   \n",
       "2    Foxborough, Massachusetts    Gillette Stadium   65,878   \n",
       "3  East Rutherford, New Jersey  MetLife Stadium[C]   82,500   \n",
       "4          Baltimore, Maryland    M&T Bank Stadium   71,008   \n",
       "5             Cincinnati, Ohio  Paul Brown Stadium   65,515   \n",
       "\n",
       "                                         Coordinates            First season  \\\n",
       "0  .mw-parser-output .geo-default,.mw-parser-outp...  1960 (AFL), 1970 (NFL)   \n",
       "1  25°57′29″N 80°14′20″W﻿ / ﻿25.958°N 80.239°W﻿ /...  1966 (AFL), 1970 (NFL)   \n",
       "2  42°05′28″N 71°15′50″W﻿ / ﻿42.091°N 71.264°W﻿ /...  1960 (AFL), 1970 (NFL)   \n",
       "3  40°48′50″N 74°04′26″W﻿ / ﻿40.814°N 74.074°W﻿ /...  1960 (AFL), 1970 (NFL)   \n",
       "4  39°16′41″N 76°37′23″W﻿ / ﻿39.278°N 76.623°W﻿ /...                 1996[D]   \n",
       "5  39°05′42″N 84°30′58″W﻿ / ﻿39.095°N 84.516°W﻿ /...  1968 (AFL), 1970 (NFL)   \n",
       "\n",
       "       Head coach                      Conference_url     Division_url  \\\n",
       "0  Sean McDermott  /wiki/American_Football_Conference   /wiki/AFC_East   \n",
       "1    Brian Flores  /wiki/American_Football_Conference   /wiki/AFC_East   \n",
       "2  Bill Belichick  /wiki/American_Football_Conference   /wiki/AFC_East   \n",
       "3          Vacant  /wiki/American_Football_Conference   /wiki/AFC_East   \n",
       "4   John Harbaugh  /wiki/American_Football_Conference  /wiki/AFC_North   \n",
       "5      Zac Taylor  /wiki/American_Football_Conference  /wiki/AFC_North   \n",
       "\n",
       "                     Club_url                             City_url  \\\n",
       "0         /wiki/Buffalo_Bills  /wiki/Orchard_Park_(town),_New_York   \n",
       "1        /wiki/Miami_Dolphins         /wiki/Miami_Gardens,_Florida   \n",
       "2  /wiki/New_England_Patriots      /wiki/Foxborough,_Massachusetts   \n",
       "3         /wiki/New_York_Jets    /wiki/East_Rutherford,_New_Jersey   \n",
       "4      /wiki/Baltimore_Ravens                      /wiki/Baltimore   \n",
       "5    /wiki/Cincinnati_Bengals                     /wiki/Cincinnati   \n",
       "\n",
       "                Stadium_url       Lat      Long  \n",
       "0       /wiki/Bills_Stadium  42.774°N  78.787°W  \n",
       "1   /wiki/Hard_Rock_Stadium  25.958°N  80.239°W  \n",
       "2    /wiki/Gillette_Stadium  42.091°N  71.264°W  \n",
       "3     /wiki/MetLife_Stadium  40.814°N  74.074°W  \n",
       "4  /wiki/M%26T_Bank_Stadium  39.278°N  76.623°W  \n",
       "5  /wiki/Paul_Brown_Stadium  39.095°N  84.516°W  "
      ]
     },
     "execution_count": 183,
     "metadata": {},
     "output_type": "execute_result"
    }
   ],
   "source": [
    "data_df.head(6)"
   ]
  },
  {
   "cell_type": "code",
   "execution_count": 169,
   "metadata": {},
   "outputs": [],
   "source": [
    "data_df.to_pickle('all_teams_data.pkl')"
   ]
  },
  {
   "cell_type": "markdown",
   "metadata": {},
   "source": []
  },
  {
   "cell_type": "markdown",
   "metadata": {},
   "source": []
  }
 ],
 "metadata": {
  "kernelspec": {
   "display_name": "Python 3",
   "language": "python",
   "name": "python3"
  },
  "language_info": {
   "codemirror_mode": {
    "name": "ipython",
    "version": 3
   },
   "file_extension": ".py",
   "mimetype": "text/x-python",
   "name": "python",
   "nbconvert_exporter": "python",
   "pygments_lexer": "ipython3",
   "version": "3.7.6"
  }
 },
 "nbformat": 4,
 "nbformat_minor": 4
}
