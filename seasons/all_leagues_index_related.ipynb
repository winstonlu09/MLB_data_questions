{
 "cells": [
  {
   "cell_type": "code",
   "execution_count": 11,
   "metadata": {},
   "outputs": [],
   "source": [
    "import sys\n",
    "import os\n",
    "\n",
    "PACKAGE_PARENT = '..'\n",
    "SCRIPT_DIR = os.path.abspath('')\n",
    "sys.path.append(os.path.normpath(os.path.join(SCRIPT_DIR, PACKAGE_PARENT)))"
   ]
  },
  {
   "cell_type": "code",
   "execution_count": 29,
   "metadata": {},
   "outputs": [],
   "source": [
    "from bs4 import BeautifulSoup\n",
    "import requests\n",
    "import re\n",
    "import numpy as np\n",
    "import pandas as pd\n",
    "import re\n",
    "import pickle\n",
    "\n",
    "import importlib\n",
    "import utils\n",
    "importlib.reload(utils)\n",
    "from tqdm import tqdm\n",
    "\n",
    "from utils import get_parsed, get_parsed_remove_comment, baseball_base_url"
   ]
  },
  {
   "cell_type": "code",
   "execution_count": 3,
   "metadata": {},
   "outputs": [],
   "source": [
    "content = get_parsed_remove_comment(baseball_base_url + '/leagues/')"
   ]
  },
  {
   "cell_type": "code",
   "execution_count": 6,
   "metadata": {},
   "outputs": [],
   "source": [
    "leagues = content.find(id='div_9783046937')"
   ]
  },
  {
   "cell_type": "code",
   "execution_count": 7,
   "metadata": {},
   "outputs": [],
   "source": [
    "table = leagues.table"
   ]
  },
  {
   "cell_type": "code",
   "execution_count": 11,
   "metadata": {},
   "outputs": [
    {
     "data": {
      "text/plain": [
       "['League Name', 'Wins', 'Batting', 'Pitching', 'Fielding', 'Misc']"
      ]
     },
     "execution_count": 11,
     "metadata": {},
     "output_type": "execute_result"
    }
   ],
   "source": [
    "all_trs = table.find_all('tr')\n",
    "column_names = [ele.text.strip() for ele in all_trs[0].find_all('td')]\n",
    "column_names[0] = 'League Name'\n",
    "column_names"
   ]
  },
  {
   "cell_type": "code",
   "execution_count": 60,
   "metadata": {},
   "outputs": [],
   "source": [
    "data = []\n",
    "for tr in all_trs[:8]:\n",
    "    text = [ele.text.strip() for ele in tr.find_all('td')]\n",
    "    temp = [ele.a['href'] for ele in tr.find_all('td')]\n",
    "    data.append(text[:1] + temp[1:])\n",
    "df = pd.DataFrame(data, columns=column_names)"
   ]
  },
  {
   "cell_type": "code",
   "execution_count": 61,
   "metadata": {},
   "outputs": [
    {
     "data": {
      "text/html": [
       "<div>\n",
       "<style scoped>\n",
       "    .dataframe tbody tr th:only-of-type {\n",
       "        vertical-align: middle;\n",
       "    }\n",
       "\n",
       "    .dataframe tbody tr th {\n",
       "        vertical-align: top;\n",
       "    }\n",
       "\n",
       "    .dataframe thead th {\n",
       "        text-align: right;\n",
       "    }\n",
       "</style>\n",
       "<table border=\"1\" class=\"dataframe\">\n",
       "  <thead>\n",
       "    <tr style=\"text-align: right;\">\n",
       "      <th></th>\n",
       "      <th>League Name</th>\n",
       "      <th>Wins</th>\n",
       "      <th>Batting</th>\n",
       "      <th>Pitching</th>\n",
       "      <th>Fielding</th>\n",
       "      <th>Misc</th>\n",
       "    </tr>\n",
       "  </thead>\n",
       "  <tbody>\n",
       "    <tr>\n",
       "      <th>0</th>\n",
       "      <td>National League</td>\n",
       "      <td>/leagues/NL/</td>\n",
       "      <td>/leagues/NL/bat.shtml</td>\n",
       "      <td>/leagues/NL/pitch.shtml</td>\n",
       "      <td>/leagues/NL/field.shtml</td>\n",
       "      <td>/leagues/NL/misc.shtml</td>\n",
       "    </tr>\n",
       "    <tr>\n",
       "      <th>1</th>\n",
       "      <td>American League</td>\n",
       "      <td>/leagues/AL/</td>\n",
       "      <td>/leagues/AL/bat.shtml</td>\n",
       "      <td>/leagues/AL/pitch.shtml</td>\n",
       "      <td>/leagues/AL/field.shtml</td>\n",
       "      <td>/leagues/AL/misc.shtml</td>\n",
       "    </tr>\n",
       "  </tbody>\n",
       "</table>\n",
       "</div>"
      ],
      "text/plain": [
       "       League Name          Wins                Batting  \\\n",
       "0  National League  /leagues/NL/  /leagues/NL/bat.shtml   \n",
       "1  American League  /leagues/AL/  /leagues/AL/bat.shtml   \n",
       "\n",
       "                  Pitching                 Fielding                    Misc  \n",
       "0  /leagues/NL/pitch.shtml  /leagues/NL/field.shtml  /leagues/NL/misc.shtml  \n",
       "1  /leagues/AL/pitch.shtml  /leagues/AL/field.shtml  /leagues/AL/misc.shtml  "
      ]
     },
     "execution_count": 61,
     "metadata": {},
     "output_type": "execute_result"
    }
   ],
   "source": [
    "df.head(2)"
   ]
  },
  {
   "cell_type": "code",
   "execution_count": 62,
   "metadata": {},
   "outputs": [],
   "source": [
    "df.to_csv(os.path.join('leagues_index', 'all_leagues.csv'))"
   ]
  },
  {
   "cell_type": "markdown",
   "metadata": {},
   "source": [
    "## Scrape data now"
   ]
  },
  {
   "cell_type": "code",
   "execution_count": 8,
   "metadata": {},
   "outputs": [],
   "source": [
    "df = pd.read_csv(os.path.join('leagues_index', 'all_leagues.csv'))"
   ]
  },
  {
   "cell_type": "code",
   "execution_count": 9,
   "metadata": {},
   "outputs": [
    {
     "data": {
      "text/html": [
       "<div>\n",
       "<style scoped>\n",
       "    .dataframe tbody tr th:only-of-type {\n",
       "        vertical-align: middle;\n",
       "    }\n",
       "\n",
       "    .dataframe tbody tr th {\n",
       "        vertical-align: top;\n",
       "    }\n",
       "\n",
       "    .dataframe thead th {\n",
       "        text-align: right;\n",
       "    }\n",
       "</style>\n",
       "<table border=\"1\" class=\"dataframe\">\n",
       "  <thead>\n",
       "    <tr style=\"text-align: right;\">\n",
       "      <th></th>\n",
       "      <th>Unnamed: 0</th>\n",
       "      <th>League Name</th>\n",
       "      <th>Wins</th>\n",
       "      <th>Batting</th>\n",
       "      <th>Pitching</th>\n",
       "      <th>Fielding</th>\n",
       "      <th>Misc</th>\n",
       "    </tr>\n",
       "  </thead>\n",
       "  <tbody>\n",
       "    <tr>\n",
       "      <th>0</th>\n",
       "      <td>0</td>\n",
       "      <td>National League</td>\n",
       "      <td>/leagues/NL/</td>\n",
       "      <td>/leagues/NL/bat.shtml</td>\n",
       "      <td>/leagues/NL/pitch.shtml</td>\n",
       "      <td>/leagues/NL/field.shtml</td>\n",
       "      <td>/leagues/NL/misc.shtml</td>\n",
       "    </tr>\n",
       "    <tr>\n",
       "      <th>1</th>\n",
       "      <td>1</td>\n",
       "      <td>American League</td>\n",
       "      <td>/leagues/AL/</td>\n",
       "      <td>/leagues/AL/bat.shtml</td>\n",
       "      <td>/leagues/AL/pitch.shtml</td>\n",
       "      <td>/leagues/AL/field.shtml</td>\n",
       "      <td>/leagues/AL/misc.shtml</td>\n",
       "    </tr>\n",
       "    <tr>\n",
       "      <th>2</th>\n",
       "      <td>2</td>\n",
       "      <td>Federal League</td>\n",
       "      <td>/leagues/FL/</td>\n",
       "      <td>/leagues/FL/bat.shtml</td>\n",
       "      <td>/leagues/FL/pitch.shtml</td>\n",
       "      <td>/leagues/FL/field.shtml</td>\n",
       "      <td>/leagues/FL/misc.shtml</td>\n",
       "    </tr>\n",
       "    <tr>\n",
       "      <th>3</th>\n",
       "      <td>3</td>\n",
       "      <td>American Association</td>\n",
       "      <td>/leagues/AA/</td>\n",
       "      <td>/leagues/AA/bat.shtml</td>\n",
       "      <td>/leagues/AA/pitch.shtml</td>\n",
       "      <td>/leagues/AA/field.shtml</td>\n",
       "      <td>/leagues/AA/misc.shtml</td>\n",
       "    </tr>\n",
       "    <tr>\n",
       "      <th>4</th>\n",
       "      <td>4</td>\n",
       "      <td>Players League</td>\n",
       "      <td>/leagues/PL/</td>\n",
       "      <td>/leagues/PL/bat.shtml</td>\n",
       "      <td>/leagues/PL/pitch.shtml</td>\n",
       "      <td>/leagues/PL/field.shtml</td>\n",
       "      <td>/leagues/PL/misc.shtml</td>\n",
       "    </tr>\n",
       "    <tr>\n",
       "      <th>5</th>\n",
       "      <td>5</td>\n",
       "      <td>Union Association</td>\n",
       "      <td>/leagues/UA/</td>\n",
       "      <td>/leagues/UA/bat.shtml</td>\n",
       "      <td>/leagues/UA/pitch.shtml</td>\n",
       "      <td>/leagues/UA/field.shtml</td>\n",
       "      <td>/leagues/UA/misc.shtml</td>\n",
       "    </tr>\n",
       "    <tr>\n",
       "      <th>6</th>\n",
       "      <td>6</td>\n",
       "      <td>National Association</td>\n",
       "      <td>/leagues/NA/</td>\n",
       "      <td>/leagues/NA/bat.shtml</td>\n",
       "      <td>/leagues/NA/pitch.shtml</td>\n",
       "      <td>/leagues/NA/field.shtml</td>\n",
       "      <td>/leagues/NA/misc.shtml</td>\n",
       "    </tr>\n",
       "    <tr>\n",
       "      <th>7</th>\n",
       "      <td>7</td>\n",
       "      <td>All Major Leagues</td>\n",
       "      <td>/leagues/MLB/</td>\n",
       "      <td>/leagues/MLB/bat.shtml</td>\n",
       "      <td>/leagues/MLB/pitch.shtml</td>\n",
       "      <td>/leagues/MLB/field.shtml</td>\n",
       "      <td>/leagues/MLB/misc.shtml</td>\n",
       "    </tr>\n",
       "  </tbody>\n",
       "</table>\n",
       "</div>"
      ],
      "text/plain": [
       "   Unnamed: 0           League Name           Wins                 Batting  \\\n",
       "0           0       National League   /leagues/NL/   /leagues/NL/bat.shtml   \n",
       "1           1       American League   /leagues/AL/   /leagues/AL/bat.shtml   \n",
       "2           2        Federal League   /leagues/FL/   /leagues/FL/bat.shtml   \n",
       "3           3  American Association   /leagues/AA/   /leagues/AA/bat.shtml   \n",
       "4           4        Players League   /leagues/PL/   /leagues/PL/bat.shtml   \n",
       "5           5     Union Association   /leagues/UA/   /leagues/UA/bat.shtml   \n",
       "6           6  National Association   /leagues/NA/   /leagues/NA/bat.shtml   \n",
       "7           7     All Major Leagues  /leagues/MLB/  /leagues/MLB/bat.shtml   \n",
       "\n",
       "                   Pitching                  Fielding                     Misc  \n",
       "0   /leagues/NL/pitch.shtml   /leagues/NL/field.shtml   /leagues/NL/misc.shtml  \n",
       "1   /leagues/AL/pitch.shtml   /leagues/AL/field.shtml   /leagues/AL/misc.shtml  \n",
       "2   /leagues/FL/pitch.shtml   /leagues/FL/field.shtml   /leagues/FL/misc.shtml  \n",
       "3   /leagues/AA/pitch.shtml   /leagues/AA/field.shtml   /leagues/AA/misc.shtml  \n",
       "4   /leagues/PL/pitch.shtml   /leagues/PL/field.shtml   /leagues/PL/misc.shtml  \n",
       "5   /leagues/UA/pitch.shtml   /leagues/UA/field.shtml   /leagues/UA/misc.shtml  \n",
       "6   /leagues/NA/pitch.shtml   /leagues/NA/field.shtml   /leagues/NA/misc.shtml  \n",
       "7  /leagues/MLB/pitch.shtml  /leagues/MLB/field.shtml  /leagues/MLB/misc.shtml  "
      ]
     },
     "execution_count": 9,
     "metadata": {},
     "output_type": "execute_result"
    }
   ],
   "source": [
    "df"
   ]
  },
  {
   "cell_type": "code",
   "execution_count": 18,
   "metadata": {},
   "outputs": [],
   "source": [
    "def process(table):\n",
    "    \n",
    "    table_name = table.previous_sibling.previous_sibling.find('h2').text\n",
    "    print(table_name)\n",
    "    \n",
    "    table_header = table.thead\n",
    "    column_names = [th.text for th in table_header.find_all('th')]\n",
    "    #print([th.attrs for th in table_header.find_all('th')])\n",
    "    #print(column_names)\n",
    "    columns_exp = [th.attrs['data-tip'] if 'data-tip' in th.attrs else '' for th in table_header.find_all('th')]\n",
    "    columns_short_exp = [th.attrs['data-stat'] for th in table_header.find_all('th')]\n",
    "    #print(columns_short_exp)\n",
    "    result = []\n",
    "    for tr in table.tbody.find_all('tr'):\n",
    "        if 'class' not in tr.attrs:\n",
    "            year = tr.find('th').text\n",
    "            rest = [ele.text for ele in tr.find_all('td')]\n",
    "            result.append([year] + rest)\n",
    "    df_table = pd.DataFrame(result, columns=column_names)\n",
    "    df_explain = pd.DataFrame([columns_short_exp, columns_exp], columns=column_names)\n",
    "    return table_name, df_table, df_explain\n",
    "    "
   ]
  },
  {
   "cell_type": "code",
   "execution_count": 23,
   "metadata": {},
   "outputs": [],
   "source": [
    "folder = 'leagues_index'\n",
    "for col_num, column_name in enumerate(['Wins', 'Batting', 'Pitching', 'Fielding', 'Misc']):\n",
    "    for row_num in range(min(df.shape[0], 2)):\n",
    "        content = get_parsed(baseball_base_url + df.loc[row_num, column_name])\n",
    "        tables = content.find_all(attrs={'class':'table_outer_container'})\n",
    "        for idd, table in enumerate(tables):\n",
    "            table_name, df_table, df_explain = process(table)\n",
    "            file_name = (f'{row_num:02}_' + df.loc[row_num, 'League Name'] + '_' + column_name \n",
    "                         + '_' + table_name + '_' + str(idd) + '.csv')\n",
    "            file_name = re.sub(' ', '_', file_name)\n",
    "            #print(file_name)\n",
    "            df_table.to_csv(os.path.join(folder, file_name))\n",
    "            file_name_exp = (f'{row_num:02}_' + df.loc[row_num, 'League Name'] + '_' + column_name \n",
    "                         + '_' + table_name + '_' + str(idd) + '_' + 'explanation' + '.csv')\n",
    "            file_name_exp = re.sub(' ', '_', file_name_exp)\n",
    "            #print(file_name_exp)\n",
    "            df_explain.to_csv(os.path.join(folder, file_name_exp))"
   ]
  },
  {
   "cell_type": "code",
   "execution_count": 27,
   "metadata": {},
   "outputs": [
    {
     "name": "stdout",
     "output_type": "stream",
     "text": [
      "2\n",
      "Team Wins\n",
      "Team Wins\n",
      "1\n",
      "Team Wins\n",
      "2\n",
      "League Year-By-Year Batting--Averages\n",
      "League Year-By-Year Batting--Totals\n",
      "2\n",
      "League Year-By-Year Batting--Averages\n",
      "League Year-By-Year Batting--Totals\n",
      "2\n",
      "League Year-By-Year Pitching--Averages\n",
      "League Year-By-Year Pitching--Totals\n",
      "2\n",
      "League Year-By-Year Pitching--Averages\n",
      "League Year-By-Year Pitching--Totals\n",
      "2\n",
      "League Year-By-Year Fielding--Averages\n",
      "League Year-By-Year Fielding--Totals\n",
      "2\n",
      "League Year-By-Year Fielding--Averages\n",
      "League Year-By-Year Fielding--Totals\n",
      "1\n",
      "League Year-By-Year Miscellaneous\n",
      "1\n",
      "League Year-By-Year Miscellaneous\n"
     ]
    }
   ],
   "source": [
    "folder = 'temp'\n",
    "all_dfs = []\n",
    "for col_num, column_name in enumerate(['Wins', 'Batting', 'Pitching', 'Fielding', 'Misc']):\n",
    "    for row_num in range(min(df.shape[0], 2)):\n",
    "        content = get_parsed(baseball_base_url + df.loc[row_num, column_name])\n",
    "        tables = content.find_all(attrs={'class':'table_container'})\n",
    "        print(len(tables))\n",
    "        for idd, table in enumerate(tables):\n",
    "            table_name, df_table, df_explain = process(table)\n",
    "            file_name = (f'{row_num:02}_' + df.loc[row_num, 'League Name'] + '_' + column_name \n",
    "                         + '_' + table_name + '_' + str(idd) + '.csv')\n",
    "            file_name = re.sub(' ', '_', file_name)\n",
    "            #print(file_name)\n",
    "            df_table.to_csv(os.path.join(folder, file_name))\n",
    "            file_name_exp = (f'{row_num:02}_' + df.loc[row_num, 'League Name'] + '_' + column_name \n",
    "                         + '_' + table_name + '_' + str(idd) + '_' + 'explanation' + '.csv')\n",
    "            file_name_exp = re.sub(' ', '_', file_name_exp)\n",
    "            #print(file_name_exp)\n",
    "            df_explain.to_csv(os.path.join(folder, file_name_exp))\n",
    "            \n",
    "            all_dfs.append([df.loc[row_num, 'League Name'], column_name, table_name, df_table, df_explain])"
   ]
  },
  {
   "cell_type": "code",
   "execution_count": 30,
   "metadata": {},
   "outputs": [],
   "source": [
    "with open('pkl_all_league_index.pkl', 'wb') as f:\n",
    "    pickle.dump(all_dfs, f)\n",
    "with open('pkl_all_league_index.pkl', 'rb') as f:\n",
    "    all_dfs = pickle.load(f)"
   ]
  },
  {
   "cell_type": "code",
   "execution_count": 59,
   "metadata": {},
   "outputs": [
    {
     "name": "stdout",
     "output_type": "stream",
     "text": [
      "National League Wins Team Wins\n",
      "National League Wins Team Wins\n",
      "American League Wins Team Wins\n",
      "National League Batting League Year-By-Year Batting--Averages\n",
      "National League Batting League Year-By-Year Batting--Totals\n",
      "American League Batting League Year-By-Year Batting--Averages\n",
      "American League Batting League Year-By-Year Batting--Totals\n",
      "National League Pitching League Year-By-Year Pitching--Averages\n",
      "National League Pitching League Year-By-Year Pitching--Totals\n",
      "American League Pitching League Year-By-Year Pitching--Averages\n",
      "American League Pitching League Year-By-Year Pitching--Totals\n",
      "National League Fielding League Year-By-Year Fielding--Averages\n",
      "National League Fielding League Year-By-Year Fielding--Totals\n",
      "American League Fielding League Year-By-Year Fielding--Averages\n",
      "American League Fielding League Year-By-Year Fielding--Totals\n",
      "National League Misc League Year-By-Year Miscellaneous\n",
      "American League Misc League Year-By-Year Miscellaneous\n"
     ]
    }
   ],
   "source": [
    "wrong_count = 4\n",
    "columns = ['Question', 'Correct'] + ['Wrong_' + str(i + 1) for i in range(wrong_count)] +  ['tags']\n",
    "years_range = range(1980, 2021)\n",
    "tags_ori = ['Totals']\n",
    "\n",
    "question_list = []\n",
    "import random\n",
    "random.seed(1000)\n",
    "for league, col, tab, df, df_exp in all_dfs:\n",
    "    print(league + ' ' + col + ' ' + tab)\n",
    "    if 'wins' in tab.lower():\n",
    "        for i in range(df.shape[0]):\n",
    "            year = int(df.loc[i, 'Year'])\n",
    "            if year < 1980:\n",
    "                break\n",
    "            # each team wins that year\n",
    "            for column in df.columns:\n",
    "                if column != 'Year' and column != 'G':\n",
    "                    question = f'How many games did {column} win in {year} in {league}?'\n",
    "                    correct = int(df[df['Year'] == str(year)]['G'])\n",
    "                    options = random.sample(list(range(int(correct * 0.6), int(correct * 1.4))), k = wrong_count + 1)\n",
    "                    wrongs = [opt for opt in options if opt != correct][:wrong_count]\n",
    "                    tags = tags_ori + []\n",
    "                    question_list.append([question] + [correct] + wrongs + [tags])\n",
    "    elif 'totals' in tab.lower() and 'batting' in tab.lower():\n",
    "        for i in range(df.shape[0]):\n",
    "            year = int(df.loc[i, 'Year'])\n",
    "            if year < 1980:\n",
    "                break\n",
    "            # number of teams used that year\n",
    "            question = f'How many teams participated in games in {year} in {league}?'\n",
    "            correct = int(df[df['Year'] == str(year)]['Tms'])\n",
    "            options = random.sample(list(range(int(correct * 0.6), int(correct * 1.4))), k = wrong_count + 1)\n",
    "            wrongs = [opt for opt in options if opt != correct][:wrong_count]\n",
    "            tags = tags_ori + []\n",
    "            question_list.append([question] + [correct] + wrongs + [tags])\n",
    "            \n",
    "            # batters used that year\n",
    "            question = f'How many batters participated in games in {year} in {league}?'\n",
    "            correct = int(df[df['Year'] == str(year)]['#Bat'])\n",
    "            options = random.sample(list(range(int(correct * 0.6), int(correct * 1.4))), k = wrong_count + 1)\n",
    "            wrongs = [opt for opt in options if opt != correct][:wrong_count]\n",
    "            tags = tags_ori + []\n",
    "            question_list.append([question] + [correct] + wrongs + [tags])\n",
    "            \n",
    "            # batters used that year\n",
    "            question = f'How many games are played/pitched in {year} in {league}?'\n",
    "            correct = int(df[df['Year'] == str(year)]['G'])\n",
    "            options = random.sample(list(range(int(correct * 0.6), int(correct * 1.4))), k = wrong_count + 1)\n",
    "            wrongs = [opt for opt in options if opt != correct][:wrong_count]\n",
    "            tags = tags_ori + []\n",
    "            question_list.append([question] + [correct] + wrongs + [tags])\n",
    "            \n",
    "            # strikeouts used that year\n",
    "            question = f'How many strikeouts () are in {year} in {league}?'\n",
    "            correct = int(df[df['Year'] == str(year)]['SO'])\n",
    "            options = random.sample(list(range(int(correct * 0.6), int(correct * 1.4))), k = wrong_count + 1)\n",
    "            wrongs = [opt for opt in options if opt != correct][:wrong_count]\n",
    "            tags = tags_ori + []\n",
    "            question_list.append([question] + [correct] + wrongs + [tags])\n",
    "            \n",
    "            # stolen bases used that year\n",
    "            question = f'How many stolen bases are in {year} in {league}?'\n",
    "            correct = int(df[df['Year'] == str(year)]['SB'])\n",
    "            options = random.sample(list(range(int(correct * 0.6), int(correct * 1.4))), k = wrong_count + 1)\n",
    "            wrongs = [opt for opt in options if opt != correct][:wrong_count]\n",
    "            tags = tags_ori + []\n",
    "            question_list.append([question] + [correct] + wrongs + [tags])\n",
    "    elif 'totals' in tab.lower() and 'fielding' in tab.lower():\n",
    "        for i in range(df.shape[0]):\n",
    "            year = int(df.loc[i, 'Year'])\n",
    "            if year < 1980:\n",
    "                break\n",
    "            \n",
    "            # batters used that year\n",
    "            question = f'How many number of players are used as fielders in games in {year} in {league}?'\n",
    "            correct = int(df[df['Year'] == str(year)]['#Fld'])\n",
    "            options = random.sample(list(range(int(correct * 0.6), int(correct * 1.4))), k = wrong_count + 1)\n",
    "            wrongs = [opt for opt in options if opt != correct][:wrong_count]\n",
    "            tags = tags_ori + []\n",
    "            question_list.append([question] + [correct] + wrongs + [tags])\n",
    "            \n",
    "            # batters used that year\n",
    "            question = f'How many Stolen Bases are in {year} in {league}?'\n",
    "            correct = int(df[df['Year'] == str(year)]['SB'])\n",
    "            options = random.sample(list(range(int(correct * 0.6), int(correct * 1.4))), k = wrong_count + 1)\n",
    "            wrongs = [opt for opt in options if opt != correct][:wrong_count]\n",
    "            tags = tags_ori + []\n",
    "            question_list.append([question] + [correct] + wrongs + [tags])\n",
    "            \n",
    "            # strikeouts used that year\n",
    "            question = f'How many Defensive Chances are in {year} in {league}?'\n",
    "            correct = int(df[df['Year'] == str(year)]['Ch'])\n",
    "            options = random.sample(list(range(int(correct * 0.6), int(correct * 1.4))), k = wrong_count + 1)\n",
    "            wrongs = [opt for opt in options if opt != correct][:wrong_count]\n",
    "            tags = tags_ori + []\n",
    "            question_list.append([question] + [correct] + wrongs + [tags])\n",
    "            \n",
    "            # stolen bases used that year\n",
    "            question = f'How many Errors Committed (Fielding) are in {year} in {league}?'\n",
    "            correct = int(df[df['Year'] == str(year)]['E'])\n",
    "            options = random.sample(list(range(int(correct * 0.6), int(correct * 1.4))), k = wrong_count + 1)\n",
    "            wrongs = [opt for opt in options if opt != correct][:wrong_count]\n",
    "            tags = tags_ori + []\n",
    "            question_list.append([question] + [correct] + wrongs + [tags])\n",
    "            \n",
    "            "
   ]
  },
  {
   "cell_type": "code",
   "execution_count": 60,
   "metadata": {},
   "outputs": [
    {
     "data": {
      "text/plain": [
       "2091"
      ]
     },
     "execution_count": 60,
     "metadata": {},
     "output_type": "execute_result"
    }
   ],
   "source": [
    "len(question_list)"
   ]
  },
  {
   "cell_type": "code",
   "execution_count": 63,
   "metadata": {},
   "outputs": [],
   "source": [
    "league_index_questions = pd.DataFrame(question_list, columns=columns)\n",
    "with open('questions_league_index.pkl', 'wb') as f:\n",
    "    pickle.dump(league_index_questions, f)\n",
    "with open('questions_league_index.pkl', 'rb') as f:\n",
    "    league_index_questions = pickle.load(f)"
   ]
  },
  {
   "cell_type": "code",
   "execution_count": 62,
   "metadata": {},
   "outputs": [
    {
     "data": {
      "text/plain": [
       "['How many games did COL win in 2014 in National League?',\n",
       " 162,\n",
       " 178,\n",
       " 148,\n",
       " 127,\n",
       " 105,\n",
       " ['Totals']]"
      ]
     },
     "execution_count": 62,
     "metadata": {},
     "output_type": "execute_result"
    }
   ],
   "source": [
    "question_list[100]"
   ]
  },
  {
   "cell_type": "code",
   "execution_count": null,
   "metadata": {},
   "outputs": [],
   "source": []
  }
 ],
 "metadata": {
  "kernelspec": {
   "display_name": "Python 3",
   "language": "python",
   "name": "python3"
  },
  "language_info": {
   "codemirror_mode": {
    "name": "ipython",
    "version": 3
   },
   "file_extension": ".py",
   "mimetype": "text/x-python",
   "name": "python",
   "nbconvert_exporter": "python",
   "pygments_lexer": "ipython3",
   "version": "3.7.6"
  }
 },
 "nbformat": 4,
 "nbformat_minor": 4
}
