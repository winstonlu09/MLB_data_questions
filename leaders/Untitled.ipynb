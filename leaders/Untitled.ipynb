{
 "cells": [
  {
   "cell_type": "code",
   "execution_count": null,
   "metadata": {},
   "outputs": [],
   "source": []
  },
  {
   "cell_type": "code",
   "execution_count": null,
   "metadata": {},
   "outputs": [],
   "source": [
    "curl \\\n",
    "  'https://customsearch.googleapis.com/customsearch/v1?cx=68fdd158195bf21cf&imgSize=LARGE&imgType=face&q=Burke%20Badenhop%20Florida%20Marlins&key=' \\\n",
    "  --header 'Accept: application/json' \\\n",
    "  --compressed"
   ]
  },
  {
   "cell_type": "markdown",
   "metadata": {},
   "source": [
    "Delete all #6 for fielding?\n"
   ]
  },
  {
   "cell_type": "code",
   "execution_count": 5,
   "metadata": {},
   "outputs": [],
   "source": [
    "to_delete = {'Batting': {'individual':\n",
    "                            set(['Runs Created', 'Adj. Batting Runs', 'Adj. Batting Wins',\n",
    "                                 'Base-Out Runs Added (RE24)', 'Situ. Wins Added (WPA/LI)',\n",
    "                                 'Championship WPA (cWPA)', 'Base-Out Wins Added (REW)'])\n",
    "                       },\n",
    "            'Pitching': {'individual': \n",
    "                             set(['Adj. Pitching Runs', 'Adj. Pitching Wins',\n",
    "                                  'Base-Out Runs Saved (RE24)', 'Sit. Wins Saved (WPA/LI)',\n",
    "                                  'Championship WPA (cWPA)', 'Base-Out Wins Saved (REW)'])\n",
    "                        },\n",
    "            'Fielding': {'individual': \n",
    "                             set(['Total Zone Runs', 'Double Plays Turned as C',\n",
    "                                 'Assists as 1B', 'Double Plays Turned as 1B',\n",
    "                                 'Def. Games as P', 'Total Zone Runs as C (s.1953)',\n",
    "                                 'Range Factor/9Inn as C', 'Range Factor/Game as C',\n",
    "                                 'Fielding % as C', '']),\n",
    "                         'pattern': \n",
    "                             set(['Double Plays Turned as', '(s.1901)'])\n",
    "                        }\n",
    "           }\n"
   ]
  },
  {
   "cell_type": "code",
   "execution_count": null,
   "metadata": {},
   "outputs": [],
   "source": [
    "to_change = {'Batting': \n",
    "             {'Intentional Bases on Balls': 'Intentional Walks',\n",
    "              'SB %': 'Stolen Base Percentage',\n",
    "              'AB per HR': 'AB/HR',\n",
    "              'AB per SO': 'AB/SO'\n",
    "             },\n",
    "             'Pitching':\n",
    "             {'Walks & Hits per IP':'WHIP',\n",
    "              'Earned Run Average': 'ERA',\n",
    "              'Hits per 9 IP': 'Hits per Nine Innings',\n",
    "              'Bases On Balls per 9 IP': 'BB/9',\n",
    "              'Strikeouts per 9 IP': 'K/9',\n",
    "              'Home Runs': 'Home Runs Allowed',\n",
    "              'Bases on Balls': 'Walks',\n",
    "              'Hits': 'Hits Allowed',\n",
    "              'Strikeouts / Base On Balls': 'K/BB',\n",
    "              'Home Runs per 9 IP': 'HR/9',\n",
    "              'Fielding Independent Pitching': 'Fielding Independent Pitching (FIP)'\n",
    "             },\n",
    "             'Manager':\n",
    "             {'Manager Ejections': 'Ejections'\n",
    "             }\n",
    "            }"
   ]
  }
 ],
 "metadata": {
  "kernelspec": {
   "display_name": "Python 3",
   "language": "python",
   "name": "python3"
  },
  "language_info": {
   "codemirror_mode": {
    "name": "ipython",
    "version": 3
   },
   "file_extension": ".py",
   "mimetype": "text/x-python",
   "name": "python",
   "nbconvert_exporter": "python",
   "pygments_lexer": "ipython3",
   "version": "3.7.6"
  }
 },
 "nbformat": 4,
 "nbformat_minor": 4
}
