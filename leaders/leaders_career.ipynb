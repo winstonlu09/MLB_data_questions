{
 "cells": [
  {
   "cell_type": "code",
   "execution_count": 1,
   "metadata": {},
   "outputs": [],
   "source": [
    "import sys\n",
    "import os\n",
    "\n",
    "PACKAGE_PARENT = '..'\n",
    "SCRIPT_DIR = os.path.abspath('')\n",
    "sys.path.append(os.path.normpath(os.path.join(SCRIPT_DIR, PACKAGE_PARENT)))"
   ]
  },
  {
   "cell_type": "code",
   "execution_count": 226,
   "metadata": {},
   "outputs": [],
   "source": [
    "from bs4 import BeautifulSoup\n",
    "import requests\n",
    "import re\n",
    "import numpy as np\n",
    "import pandas as pd\n",
    "import re\n",
    "import pickle\n",
    "\n",
    "import importlib\n",
    "import utils\n",
    "importlib.reload(utils)\n",
    "from tqdm import tqdm\n",
    "\n",
    "\n",
    "from utils import get_parsed, get_parsed_remove_comment, baseball_base_url, ordinal, clean_name"
   ]
  },
  {
   "cell_type": "code",
   "execution_count": 227,
   "metadata": {},
   "outputs": [],
   "source": [
    "df_all_leaders = pd.read_csv('./all_leaders.csv')"
   ]
  },
  {
   "cell_type": "code",
   "execution_count": 228,
   "metadata": {},
   "outputs": [
    {
     "data": {
      "text/html": [
       "<div>\n",
       "<style scoped>\n",
       "    .dataframe tbody tr th:only-of-type {\n",
       "        vertical-align: middle;\n",
       "    }\n",
       "\n",
       "    .dataframe tbody tr th {\n",
       "        vertical-align: top;\n",
       "    }\n",
       "\n",
       "    .dataframe thead th {\n",
       "        text-align: right;\n",
       "    }\n",
       "</style>\n",
       "<table border=\"1\" class=\"dataframe\">\n",
       "  <thead>\n",
       "    <tr style=\"text-align: right;\">\n",
       "      <th></th>\n",
       "      <th>Statistic</th>\n",
       "      <th>Single-Season</th>\n",
       "      <th>Career</th>\n",
       "      <th>Active</th>\n",
       "      <th>Progressive</th>\n",
       "      <th>Yearly League</th>\n",
       "      <th>Year-by-Year Top-Tens</th>\n",
       "      <th>Category</th>\n",
       "    </tr>\n",
       "  </thead>\n",
       "  <tbody>\n",
       "    <tr>\n",
       "      <th>0</th>\n",
       "      <td>Wins Above Replacement</td>\n",
       "      <td>/leaders/WAR_season.shtml</td>\n",
       "      <td>/leaders/WAR_career.shtml</td>\n",
       "      <td>/leaders/WAR_active.shtml</td>\n",
       "      <td>/leaders/WAR_progress.shtml</td>\n",
       "      <td>/leaders/WAR_leagues.shtml</td>\n",
       "      <td>/leaders/WAR_top_ten.shtml</td>\n",
       "      <td>Player Value Leaderboards</td>\n",
       "    </tr>\n",
       "    <tr>\n",
       "      <th>1</th>\n",
       "      <td>WAR Position Players</td>\n",
       "      <td>/leaders/WAR_bat_season.shtml</td>\n",
       "      <td>/leaders/WAR_bat_career.shtml</td>\n",
       "      <td>/leaders/WAR_bat_active.shtml</td>\n",
       "      <td>/leaders/WAR_bat_progress.shtml</td>\n",
       "      <td>/leaders/WAR_bat_leagues.shtml</td>\n",
       "      <td>/leaders/WAR_bat_top_ten.shtml</td>\n",
       "      <td>Batting Leaderboards</td>\n",
       "    </tr>\n",
       "    <tr>\n",
       "      <th>2</th>\n",
       "      <td>Offensive WAR</td>\n",
       "      <td>/leaders/WAR_off_season.shtml</td>\n",
       "      <td>/leaders/WAR_off_career.shtml</td>\n",
       "      <td>/leaders/WAR_off_active.shtml</td>\n",
       "      <td>/leaders/WAR_off_progress.shtml</td>\n",
       "      <td>/leaders/WAR_off_leagues.shtml</td>\n",
       "      <td>/leaders/WAR_off_top_ten.shtml</td>\n",
       "      <td>Batting Leaderboards</td>\n",
       "    </tr>\n",
       "  </tbody>\n",
       "</table>\n",
       "</div>"
      ],
      "text/plain": [
       "                Statistic                  Single-Season  \\\n",
       "0  Wins Above Replacement      /leaders/WAR_season.shtml   \n",
       "1    WAR Position Players  /leaders/WAR_bat_season.shtml   \n",
       "2           Offensive WAR  /leaders/WAR_off_season.shtml   \n",
       "\n",
       "                          Career                         Active  \\\n",
       "0      /leaders/WAR_career.shtml      /leaders/WAR_active.shtml   \n",
       "1  /leaders/WAR_bat_career.shtml  /leaders/WAR_bat_active.shtml   \n",
       "2  /leaders/WAR_off_career.shtml  /leaders/WAR_off_active.shtml   \n",
       "\n",
       "                       Progressive                   Yearly League  \\\n",
       "0      /leaders/WAR_progress.shtml      /leaders/WAR_leagues.shtml   \n",
       "1  /leaders/WAR_bat_progress.shtml  /leaders/WAR_bat_leagues.shtml   \n",
       "2  /leaders/WAR_off_progress.shtml  /leaders/WAR_off_leagues.shtml   \n",
       "\n",
       "            Year-by-Year Top-Tens                   Category  \n",
       "0      /leaders/WAR_top_ten.shtml  Player Value Leaderboards  \n",
       "1  /leaders/WAR_bat_top_ten.shtml       Batting Leaderboards  \n",
       "2  /leaders/WAR_off_top_ten.shtml       Batting Leaderboards  "
      ]
     },
     "execution_count": 228,
     "metadata": {},
     "output_type": "execute_result"
    }
   ],
   "source": [
    "df_all_leaders.head(3)"
   ]
  },
  {
   "cell_type": "code",
   "execution_count": 229,
   "metadata": {},
   "outputs": [
    {
     "data": {
      "text/html": [
       "<div>\n",
       "<style scoped>\n",
       "    .dataframe tbody tr th:only-of-type {\n",
       "        vertical-align: middle;\n",
       "    }\n",
       "\n",
       "    .dataframe tbody tr th {\n",
       "        vertical-align: top;\n",
       "    }\n",
       "\n",
       "    .dataframe thead th {\n",
       "        text-align: right;\n",
       "    }\n",
       "</style>\n",
       "<table border=\"1\" class=\"dataframe\">\n",
       "  <thead>\n",
       "    <tr style=\"text-align: right;\">\n",
       "      <th></th>\n",
       "      <th>Statistic</th>\n",
       "      <th>Career</th>\n",
       "      <th>Category</th>\n",
       "    </tr>\n",
       "  </thead>\n",
       "  <tbody>\n",
       "    <tr>\n",
       "      <th>0</th>\n",
       "      <td>Wins Above Replacement</td>\n",
       "      <td>/leaders/WAR_career.shtml</td>\n",
       "      <td>Player Value Leaderboards</td>\n",
       "    </tr>\n",
       "    <tr>\n",
       "      <th>1</th>\n",
       "      <td>WAR Position Players</td>\n",
       "      <td>/leaders/WAR_bat_career.shtml</td>\n",
       "      <td>Batting Leaderboards</td>\n",
       "    </tr>\n",
       "  </tbody>\n",
       "</table>\n",
       "</div>"
      ],
      "text/plain": [
       "                Statistic                         Career  \\\n",
       "0  Wins Above Replacement      /leaders/WAR_career.shtml   \n",
       "1    WAR Position Players  /leaders/WAR_bat_career.shtml   \n",
       "\n",
       "                    Category  \n",
       "0  Player Value Leaderboards  \n",
       "1       Batting Leaderboards  "
      ]
     },
     "execution_count": 229,
     "metadata": {},
     "output_type": "execute_result"
    }
   ],
   "source": [
    "df_career = df_all_leaders[['Statistic', 'Career', 'Category']]\n",
    "df_career.head(2)"
   ]
  },
  {
   "cell_type": "code",
   "execution_count": 230,
   "metadata": {},
   "outputs": [],
   "source": [
    "def process_statistic(table):\n",
    "    def process_row(row):\n",
    "        res = []\n",
    "        for td in row.find_all('td'):\n",
    "            res.append(re.sub('\\xa0', ' ', td.text.strip()))\n",
    "        #print(res)\n",
    "        return res\n",
    "        pass\n",
    "    \n",
    "    columns_name = [i.text.strip() for i in table.find('thead').find_all('th')]\n",
    "    #print(columns_name)\n",
    "    \n",
    "    data = []\n",
    "    for row in table.find_all('tr')[1:]:\n",
    "        #print(row)\n",
    "        processed_row = process_row(row)\n",
    "        if not processed_row:\n",
    "            continue\n",
    "        if processed_row[0] == '':\n",
    "            processed_row[0] = data[-1][0]\n",
    "        data.append(processed_row)\n",
    "    \n",
    "    df = pd.DataFrame(data, columns=columns_name)\n",
    "    \n",
    "    return df"
   ]
  },
  {
   "cell_type": "code",
   "execution_count": 231,
   "metadata": {},
   "outputs": [
    {
     "name": "stderr",
     "output_type": "stream",
     "text": [
      "100%|████████████████████████████████████████████████████████████████████████████████| 179/179 [01:10<00:00,  2.53it/s]\n"
     ]
    }
   ],
   "source": [
    "all_career = []\n",
    "\n",
    "for i in tqdm(range(min(df_career.shape[0], 20000))):\n",
    "    '''\n",
    "    stat_name = re.sub(' ', '_', df_career.loc[i, 'Statistic'])\n",
    "    stat_name = re.sub('[\\./]', '', stat_name)\n",
    "    file_name = f'{i:03}_' + stat_name\n",
    "    path_to_save = os.path.join(folder, file_name + '.csv')\n",
    "    #print(path_to_save)\n",
    "    '''\n",
    "    \n",
    "    content = get_parsed(baseball_base_url + df_career.loc[i, 'Career'])\n",
    "    table = content.find('table')\n",
    "    \n",
    "    df = process_statistic(table)\n",
    "    df['Rank'] = df['Rank'].map(lambda x: x[:-1]).astype(int)\n",
    "    cat = df_career.loc[i, 'Category']\n",
    "    cat = \" \".join(cat.split(\" \")[:-1])\n",
    "    all_career.append([(cat, df_career.loc[i, 'Statistic']), df])\n"
   ]
  },
  {
   "cell_type": "code",
   "execution_count": 232,
   "metadata": {},
   "outputs": [],
   "source": [
    "with open('pkl_leaders_careers.pkl', 'wb') as f:\n",
    "    pickle.dump(all_career, f)\n",
    "with open('pkl_leaders_careers.pkl', 'rb') as f:\n",
    "    all_career = pickle.load(f)"
   ]
  },
  {
   "cell_type": "code",
   "execution_count": 233,
   "metadata": {},
   "outputs": [
    {
     "name": "stdout",
     "output_type": "stream",
     "text": [
      "('Batting', 'Batting Average')\n"
     ]
    },
    {
     "data": {
      "text/html": [
       "<div>\n",
       "<style scoped>\n",
       "    .dataframe tbody tr th:only-of-type {\n",
       "        vertical-align: middle;\n",
       "    }\n",
       "\n",
       "    .dataframe tbody tr th {\n",
       "        vertical-align: top;\n",
       "    }\n",
       "\n",
       "    .dataframe thead th {\n",
       "        text-align: right;\n",
       "    }\n",
       "</style>\n",
       "<table border=\"1\" class=\"dataframe\">\n",
       "  <thead>\n",
       "    <tr style=\"text-align: right;\">\n",
       "      <th></th>\n",
       "      <th>Rank</th>\n",
       "      <th>Player (yrs, age)</th>\n",
       "      <th>Batting Average</th>\n",
       "      <th>Bats</th>\n",
       "    </tr>\n",
       "  </thead>\n",
       "  <tbody>\n",
       "    <tr>\n",
       "      <th>0</th>\n",
       "      <td>1</td>\n",
       "      <td>Ty Cobb+ (24)</td>\n",
       "      <td>.3662</td>\n",
       "      <td>L</td>\n",
       "    </tr>\n",
       "    <tr>\n",
       "      <th>1</th>\n",
       "      <td>2</td>\n",
       "      <td>Rogers Hornsby+ (23)</td>\n",
       "      <td>.3585</td>\n",
       "      <td>R</td>\n",
       "    </tr>\n",
       "    <tr>\n",
       "      <th>2</th>\n",
       "      <td>3</td>\n",
       "      <td>Shoeless Joe Jackson (13)</td>\n",
       "      <td>.3558</td>\n",
       "      <td>L</td>\n",
       "    </tr>\n",
       "    <tr>\n",
       "      <th>3</th>\n",
       "      <td>4</td>\n",
       "      <td>Lefty O'Doul (11)</td>\n",
       "      <td>.3493</td>\n",
       "      <td>L</td>\n",
       "    </tr>\n",
       "    <tr>\n",
       "      <th>4</th>\n",
       "      <td>5</td>\n",
       "      <td>Ed Delahanty+ (16)</td>\n",
       "      <td>.3458</td>\n",
       "      <td>R</td>\n",
       "    </tr>\n",
       "  </tbody>\n",
       "</table>\n",
       "</div>"
      ],
      "text/plain": [
       "   Rank          Player (yrs, age) Batting Average Bats\n",
       "0     1              Ty Cobb+ (24)           .3662    L\n",
       "1     2       Rogers Hornsby+ (23)           .3585    R\n",
       "2     3  Shoeless Joe Jackson (13)           .3558    L\n",
       "3     4          Lefty O'Doul (11)           .3493    L\n",
       "4     5         Ed Delahanty+ (16)           .3458    R"
      ]
     },
     "execution_count": 233,
     "metadata": {},
     "output_type": "execute_result"
    }
   ],
   "source": [
    "cid = 4\n",
    "print(all_career[cid][0])\n",
    "all_career[cid][1].head()"
   ]
  },
  {
   "cell_type": "markdown",
   "metadata": {},
   "source": [
    "# Generate questions\n",
    "\n",
    "quiz columns:\n",
    "\n",
    "question, correct answer, four potential answers, tags\n",
    "\n",
    "tags:\n",
    "    player, team, season, ranking, name, number, year"
   ]
  },
  {
   "cell_type": "code",
   "execution_count": 242,
   "metadata": {},
   "outputs": [
    {
     "name": "stderr",
     "output_type": "stream",
     "text": [
      "100%|████████████████████████████████████████████████████████████████████████████████| 179/179 [00:12<00:00, 13.99it/s]\n"
     ]
    }
   ],
   "source": [
    "wrong_count = 4\n",
    "columns = ['Question', 'Correct'] + ['Wrong_' + str(i + 1) for i in range(wrong_count)] +  ['tags']\n",
    "ranking_tag = 'Career Ranking'\n",
    "leader_name = 'career'\n",
    "question_list = []\n",
    "\n",
    "import random\n",
    "random.seed(1000)\n",
    "for (cat, stat), df in tqdm(all_career[:min(len(all_career), 1000)]):\n",
    "    name_column = df.columns[1]\n",
    "    stat_column = df.columns[2]\n",
    "    ranks_unique = df['Rank'].unique()\n",
    "    \n",
    "    small_range = 6\n",
    "    middle_range = int(small_range * 1.8)\n",
    "    large_range = int(middle_range * 1.8)\n",
    "    small_range_rank = list(ranks_unique[:small_range])\n",
    "    middle_range_rank = list(ranks_unique[:middle_range])\n",
    "    large_range_rank = list(ranks_unique[:large_range])\n",
    "    \n",
    "    if len(ranks_unique) < 10:\n",
    "        continue\n",
    "    # who is number 1st - ith\n",
    "    for i in range(small_range):\n",
    "        rank = small_range_rank[i]\n",
    "        player_or_manager = 'manager' if 'Manager' in cat else 'player'\n",
    "        question = f'Which of the following {player_or_manager}s is ranked #{rank} in the {leader_name} leaderboard for \\'{stat} ({cat})\\'?'\n",
    "        # get one player that has the correct rank\n",
    "        correct = df[df['Rank'] == (rank)][name_column].tolist()[0]\n",
    "        \n",
    "        # generate wrong answers\n",
    "        subselect = random.randrange(wrong_count + 1, wrong_count * 2)\n",
    "        options = random.sample(middle_range_rank, k=min(subselect, len(middle_range_rank)))\n",
    "        options = [option for option in options if option != rank][:wrong_count]\n",
    "        wrongs = [df[df['Rank'] == (rank)][name_column].tolist()[0] for rank in options]\n",
    "        \n",
    "        # check whether the wrong answer is appropriate or not\n",
    "        screen_flag = False\n",
    "        for wrong in wrongs:\n",
    "            # all the ranks of this player\n",
    "            ranks_this_player = df[df[name_column].str.contains(clean_name(wrong))]['Rank'].tolist()\n",
    "            if rank in ranks_this_player:\n",
    "                screen_flag = True\n",
    "                break\n",
    "        if screen_flag:\n",
    "            continue\n",
    "        \n",
    "        # if there is repeating names\n",
    "        all_options = [clean_name(wrong) for wrong in [correct] + wrongs]\n",
    "        if len(set(all_options)) != len(all_options):\n",
    "            continue\n",
    "            \n",
    "        tags = [ranking_tag, player_or_manager]\n",
    "        question_list.append([question] + all_options + [tags])\n",
    "        \n",
    "        \n",
    "    # what is the highest rank of the specific player in the leaderboard\n",
    "    for i in range(small_range):\n",
    "        rank = small_range_rank[i]\n",
    "        player_or_manager = 'manager' if 'Manager' in cat else 'player'\n",
    "        player_name = df[df['Rank'] == (rank)][name_column].tolist()[0]\n",
    "        question = f'What is the highest ranking of {clean_name(player_name)}' + \\\n",
    "            f' in the {leader_name} leaderboard for \\'{stat} ({cat})\\'?'\n",
    "        \n",
    "        # find the highest rank of this player\n",
    "        highest_rank_this_player = min(df[df[name_column].str.contains(clean_name(player_name))]['Rank'].tolist())\n",
    "        # correct rank\n",
    "        correct = rank\n",
    "        \n",
    "        if correct != highest_rank_this_player:\n",
    "            continue\n",
    "        \n",
    "        # wrong rank\n",
    "        subselect = random.randrange(wrong_count + 1, wrong_count * 2)\n",
    "        options = random.sample(middle_range_rank, k=min(subselect, len(middle_range_rank)))\n",
    "        options = [option for option in options if option != rank][:wrong_count]\n",
    "        \n",
    "        all_options = [correct] + options\n",
    "        if len(set(all_options)) != len(all_options):\n",
    "            continue\n",
    "            \n",
    "        tags = [ranking_tag, player_or_manager]\n",
    "        question_list.append([question] + all_options + [tags])\n",
    "    \n",
    "    # who is ranked highest of the following palyers\n",
    "    for i in range(small_range):\n",
    "        rank = small_range_rank[i]\n",
    "        player_or_manager = 'manager' if 'Manager' in cat else 'player'\n",
    "        player_name = df[df['Rank'] == (rank)][name_column].tolist()[0]\n",
    "        question = f'Which of the following {player_or_manager}s ranks the highest' + \\\n",
    "            f' in the {leader_name} leaderboard for \\'{stat} ({cat})\\'?'\n",
    "        correct = player_name\n",
    "        \n",
    "        # get the number of wrongs to select\n",
    "        subselect = random.randrange(wrong_count + 1, wrong_count * 2)\n",
    "        # select ranks that are bigger than rank\n",
    "        options = random.sample(large_range_rank[(i + 1):], k=min(subselect, len(large_range_rank[(i + 1):])))\n",
    "        options = [option for option in options if option != rank][:wrong_count]\n",
    "        wrongs = [df[df['Rank'] == (rank)][name_column].tolist()[0] for rank in options]\n",
    "        \n",
    "        all_options = [clean_name(wrong) for wrong in [correct] + wrongs]\n",
    "        \n",
    "        # get highest for each player\n",
    "        #print([correct] + wrongs)\n",
    "        highest_each_player = [min(df[df[name_column].str.contains(clean_name(player_name))]['Rank'].tolist()) \n",
    "                               for player_name in all_options]\n",
    "        zipped = list(zip(all_options, highest_each_player))\n",
    "        zipped.sort(key=lambda x: x[1])\n",
    "        if len(set(all_options)) != len(all_options):\n",
    "            continue\n",
    "            \n",
    "        tags = [ranking_tag, player_or_manager]\n",
    "        question_list.append([question] + [opt for opt, rk in zipped] + [tags])"
   ]
  },
  {
   "cell_type": "code",
   "execution_count": 243,
   "metadata": {},
   "outputs": [
    {
     "data": {
      "text/plain": [
       "3222"
      ]
     },
     "execution_count": 243,
     "metadata": {},
     "output_type": "execute_result"
    }
   ],
   "source": [
    "len(question_list)"
   ]
  },
  {
   "cell_type": "code",
   "execution_count": 249,
   "metadata": {},
   "outputs": [],
   "source": [
    "career_ranking_questions = pd.DataFrame(question_list, columns=columns)"
   ]
  },
  {
   "cell_type": "code",
   "execution_count": 250,
   "metadata": {},
   "outputs": [],
   "source": [
    "with open('questions_career_ranking.pkl', 'wb') as f:\n",
    "    pickle.dump(career_ranking_questions, f)\n",
    "with open('questions_career_ranking.pkl', 'rb') as f:\n",
    "    career_ranking_questions = pickle.load(f)"
   ]
  },
  {
   "cell_type": "code",
   "execution_count": 251,
   "metadata": {},
   "outputs": [
    {
     "data": {
      "text/plain": [
       "[\"Which of the following players is ranked #5 in the career leaderboard for 'Errors Committed as LF (s.1901) (Fielding)'?\",\n",
       " 'Duffy Lewis',\n",
       " 'Bobby Veach',\n",
       " 'Lou Brock',\n",
       " 'Goose Goslin',\n",
       " 'Rickey Henderson',\n",
       " ['Career Ranking', 'player']]"
      ]
     },
     "execution_count": 251,
     "metadata": {},
     "output_type": "execute_result"
    }
   ],
   "source": [
    "career_ranking_questions.iloc[-1130, :].tolist()"
   ]
  },
  {
   "cell_type": "code",
   "execution_count": null,
   "metadata": {},
   "outputs": [],
   "source": []
  }
 ],
 "metadata": {
  "kernelspec": {
   "display_name": "Python 3",
   "language": "python",
   "name": "python3"
  },
  "language_info": {
   "codemirror_mode": {
    "name": "ipython",
    "version": 3
   },
   "file_extension": ".py",
   "mimetype": "text/x-python",
   "name": "python",
   "nbconvert_exporter": "python",
   "pygments_lexer": "ipython3",
   "version": "3.7.6"
  }
 },
 "nbformat": 4,
 "nbformat_minor": 4
}
